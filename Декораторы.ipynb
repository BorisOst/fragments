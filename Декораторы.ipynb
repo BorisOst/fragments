{
  "nbformat": 4,
  "nbformat_minor": 0,
  "metadata": {
    "colab": {
      "name": "Копия блокнота \"Копия блокнота \"Декораторы.ipynb\"\"",
      "provenance": [],
      "collapsed_sections": [],
      "authorship_tag": "ABX9TyNk1bTyMewvf2SDIfjgC1jF",
      "include_colab_link": true
    },
    "kernelspec": {
      "name": "python3",
      "display_name": "Python 3"
    },
    "language_info": {
      "name": "python"
    }
  },
  "cells": [
    {
      "cell_type": "markdown",
      "metadata": {
        "id": "view-in-github",
        "colab_type": "text"
      },
      "source": [
        "<a href=\"https://colab.research.google.com/github/BorisOst/fragments/blob/main/%D0%94%D0%B5%D0%BA%D0%BE%D1%80%D0%B0%D1%82%D0%BE%D1%80%D1%8B.ipynb\" target=\"_parent\"><img src=\"https://colab.research.google.com/assets/colab-badge.svg\" alt=\"Open In Colab\"/></a>"
      ]
    },
    {
      "cell_type": "code",
      "metadata": {
        "id": "8goVvjEl63m3"
      },
      "source": [
        "def count_decorator(func):\n",
        "    \"Декоратор для подсчета числа вызовов функции\"\n",
        "    counter_value = 0\n",
        "    def decorated_function(*args, **kwargs):\n",
        "        nonlocal counter_value\n",
        "        counter_value += 1\n",
        "        print(f'Вызов функции #: {counter_value}')\n",
        "        result = func(*args, **kwargs)\n",
        "        return result\n",
        "    return decorated_function"
      ],
      "execution_count": null,
      "outputs": []
    },
    {
      "cell_type": "code",
      "metadata": {
        "id": "ZheRBEzr68XW"
      },
      "source": [
        "@count_decorator\n",
        "def root(value, n=2):\n",
        "    result = value**(1/n)\n",
        "    return result"
      ],
      "execution_count": null,
      "outputs": []
    },
    {
      "cell_type": "code",
      "metadata": {
        "colab": {
          "base_uri": "https://localhost:8080/"
        },
        "id": "o2fEUfze6-fc",
        "outputId": "3a22bca6-45b6-408b-93f3-9630e2d5aabd"
      },
      "source": [
        "root(81, 6)"
      ],
      "execution_count": null,
      "outputs": [
        {
          "output_type": "stream",
          "name": "stdout",
          "text": [
            "Вызов функции #: 3\n"
          ]
        },
        {
          "output_type": "execute_result",
          "data": {
            "text/plain": [
              "2.080083823051904"
            ]
          },
          "metadata": {},
          "execution_count": 5
        }
      ]
    },
    {
      "cell_type": "code",
      "metadata": {
        "id": "a0_8kNEf7AG8"
      },
      "source": [
        "from time import time\n",
        "\n",
        "def time_decorator(func):\n",
        "    \"Декоратор для расчета времени вычислений\"\n",
        "    def decorated_func(*args, **kwargs):\n",
        "        start = time()\n",
        "        result = func(*args, **kwargs)\n",
        "        end = time()\n",
        "        delta = end - start\n",
        "        print(\"Runtime:\", delta)\n",
        "        return result\n",
        "    return decorated_func"
      ],
      "execution_count": null,
      "outputs": []
    },
    {
      "cell_type": "code",
      "metadata": {
        "id": "j_ge2cBh-Edf"
      },
      "source": [
        "from time import time\n",
        " \n",
        "# Декоратор, который возвращает декоратор. Он принимает число\n",
        "# запусков декорируемой функции для усреднения времени\n",
        "def time_runs(n_runs):\n",
        "    # Декоратор, который уже будет возвращать непосредственно\n",
        "    # декорированную функцию\n",
        "    def time_decorator(func):\n",
        "        # Функция, в которой непосредственно\n",
        "        # происходит запуск основной функции\n",
        "        def decorated_func(*args, **kwargs):\n",
        "            start = time()\n",
        "            # Запускаем основную функцию столько раз,\n",
        "            # сколько передано в n_runs\n",
        "            for i in range(n_runs):\n",
        "                result = func(*args, **kwargs)\n",
        "            end = time()\n",
        "            # Считаем разницу во времени\n",
        "            delta = end - start\n",
        "            # Делим разницу на число запусков, чтобы получить\n",
        "            # среднее время одного запуска\n",
        "            mean_time = delta / n_runs\n",
        "            # Печатаем полученное среднее время\n",
        "            print(\"Mean runtime:\", mean_time)\n",
        "            # Не забываем вернуть сам результат\n",
        "            return result\n",
        "        # Возвращаем функцию, в которой происходит запуск основной функции\n",
        "        return decorated_func\n",
        "    # Возвращаем декоратор, который будет применяться к функции\n",
        "    return time_decorator"
      ],
      "execution_count": null,
      "outputs": []
    },
    {
      "cell_type": "code",
      "metadata": {
        "id": "1xYqOHDdBI5k"
      },
      "source": [
        "# 1000000 - число вызовов расчета для осреднения результатов\n",
        "@time_runs(1000000)\n",
        "def root(value, n=2):\n",
        "    result = value ** (1/n)\n",
        "    return result"
      ],
      "execution_count": null,
      "outputs": []
    }
  ]
}