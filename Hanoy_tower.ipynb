{
  "nbformat": 4,
  "nbformat_minor": 0,
  "metadata": {
    "colab": {
      "name": "Hanoy_tower.ipynb",
      "provenance": [],
      "collapsed_sections": [],
      "authorship_tag": "ABX9TyP6wcfJoezrxG931qxs4zNQ",
      "include_colab_link": true
    },
    "kernelspec": {
      "display_name": "Python 3",
      "name": "python3"
    },
    "language_info": {
      "name": "python"
    }
  },
  "cells": [
    {
      "cell_type": "markdown",
      "metadata": {
        "id": "view-in-github",
        "colab_type": "text"
      },
      "source": [
        "<a href=\"https://colab.research.google.com/github/BorisOst/fragments/blob/main/Hanoy_tower.ipynb\" target=\"_parent\"><img src=\"https://colab.research.google.com/assets/colab-badge.svg\" alt=\"Open In Colab\"/></a>"
      ]
    },
    {
      "cell_type": "code",
      "metadata": {
        "id": "mN4lPwHMLMvr"
      },
      "source": [
        "def hanoy_tower(i, j, n):\n",
        "    \"Перекладывает n дисков со стержня i на j\"\n",
        "    k = 6 - i - j\n",
        "    # print('')\n",
        "    if n > 0:\n",
        "        hanoy_tower(i, k, n - 1)\n",
        "        print(f'Переложить диск со стержня {i} на стержень {j}')\n",
        "        hanoy_tower(k, j, n - 1)\n"
      ],
      "execution_count": null,
      "outputs": []
    },
    {
      "cell_type": "code",
      "metadata": {
        "colab": {
          "base_uri": "https://localhost:8080/"
        },
        "id": "J0p9c47YMugZ",
        "outputId": "619a3c79-f19c-475a-aa7c-3e07e96f0a1b"
      },
      "source": [
        "hanoy_tower(1, 2, 3)"
      ],
      "execution_count": null,
      "outputs": [
        {
          "output_type": "stream",
          "name": "stdout",
          "text": [
            "Переложить диск со стержня 1 на стержень 2\n",
            "Переложить диск со стержня 1 на стержень 3\n",
            "Переложить диск со стержня 2 на стержень 3\n",
            "Переложить диск со стержня 1 на стержень 2\n",
            "Переложить диск со стержня 3 на стержень 1\n",
            "Переложить диск со стержня 3 на стержень 2\n",
            "Переложить диск со стержня 1 на стержень 2\n"
          ]
        }
      ]
    },
    {
      "cell_type": "code",
      "metadata": {
        "id": "qOMCh30dMyQD"
      },
      "source": [
        ""
      ],
      "execution_count": null,
      "outputs": []
    }
  ]
}