{
  "nbformat": 4,
  "nbformat_minor": 0,
  "metadata": {
    "colab": {
      "name": "sf_cycles_27_11_21.ipynb",
      "provenance": [],
      "collapsed_sections": [],
      "include_colab_link": true
    },
    "kernelspec": {
      "display_name": "Python 3",
      "language": "python",
      "name": "python3"
    },
    "language_info": {
      "codemirror_mode": {
        "name": "ipython",
        "version": 3
      },
      "file_extension": ".py",
      "mimetype": "text/x-python",
      "name": "python",
      "nbconvert_exporter": "python",
      "pygments_lexer": "ipython3",
      "version": "3.8.5"
    }
  },
  "cells": [
    {
      "cell_type": "markdown",
      "metadata": {
        "id": "view-in-github",
        "colab_type": "text"
      },
      "source": [
        "<a href=\"https://colab.research.google.com/github/BorisOst/fragments/blob/main/%D0%A6%D0%B8%D0%BA%D0%BB%D1%8B_%D0%B2%D0%B5%D0%B1%D0%B8%D0%BD%D0%B0%D1%80.ipynb\" target=\"_parent\"><img src=\"https://colab.research.google.com/assets/colab-badge.svg\" alt=\"Open In Colab\"/></a>"
      ]
    },
    {
      "cell_type": "markdown",
      "metadata": {
        "id": "E1ZR1FHYMsJh"
      },
      "source": [
        "# Циклы "
      ]
    },
    {
      "cell_type": "markdown",
      "metadata": {
        "id": "8ONOFUcIEeYK"
      },
      "source": [
        "Булыгин Олег  \n",
        "\n",
        "* [LinkedIn](linkedin.com/in/obulygin)  \n",
        "* [Telegram](https://t.me/obulygin91)  \n",
        "* [facebook](fb.com/obulygin91)  \n",
        "* [Vk](vk.com/obulygin91)  \n",
        "* email: obulygin91@ya.ru  \n",
        "\n",
        "[Сообщество по Python](https://yandex.ru/q/loves/pythontalk/) на Кью  \n",
        "[Сообщество по Data Science и анализу данных](https://yandex.ru/q/loves/datatalk/) на Кью "
      ]
    },
    {
      "cell_type": "markdown",
      "metadata": {
        "id": "Vw4ia5wCEeYL"
      },
      "source": [
        "## План\n",
        "- цикл for  \n",
        "- функции range и enumerate  \n",
        "- цикл while\n",
        "- операторы break и continue\n",
        "- вложенные циклы "
      ]
    },
    {
      "cell_type": "markdown",
      "metadata": {
        "id": "TO6qJiIUPdTy"
      },
      "source": [
        "## Циклы\n",
        "Циклы позволяют организовать повторение выполнения участков кода. В Python существует два типа циклов: цикл **for** и цикл **while**.\n"
      ]
    },
    {
      "cell_type": "markdown",
      "metadata": {
        "id": "mTox4sr2MsKs"
      },
      "source": [
        "## Цикл **for**\n",
        "\n",
        "Цикл for проходится по элементам любого итерируемого объекта (строки, списка и т.д.) и во время каждого прохода выполняет заданную последовательность действий."
      ]
    },
    {
      "cell_type": "code",
      "metadata": {
        "id": "kwPNp-WzEeYT"
      },
      "source": [
        "# итерация по строкам\n",
        "company_name = 'SkillFactory'\n",
        "# мы сами задаем имя переменной в которую будут последовательно помещаться каждый элемент нашего объекта\n",
        "for letter in company_name: \n",
        "    letter = letter.upper()\n",
        "    print(f'*{letter}*', end='')"
      ],
      "execution_count": null,
      "outputs": []
    },
    {
      "cell_type": "markdown",
      "metadata": {
        "id": "pc1MUfRFEeYQ"
      },
      "source": [
        "Внутри цикла могут быть любые другие конструкции языка\n",
        "\n",
        "У нас есть фургон, в котором мы перевозим грузы. Установлено ограничение на максимальный вес груза в 100кг. Необходимо произвести фильтрацию данных грузов"
      ]
    },
    {
      "cell_type": "code",
      "metadata": {
        "id": "mq0hMqEt9Jyx",
        "scrolled": false
      },
      "source": [
        "items = [1, 5, 76, 12, 123, 333, 5, 6, 7]\n",
        "ok_items = []\n",
        "\n",
        "for item in items:\n",
        "    print('Груз весит ', item, ' килограмм')\n",
        "    if item <= 100:\n",
        "        ok_items.append(item) \n",
        "        print('Груз прошел проверку')\n",
        "    else:\n",
        "        print('Груз слишком большой')\n",
        "print(ok_items)"
      ],
      "execution_count": null,
      "outputs": []
    },
    {
      "cell_type": "markdown",
      "metadata": {
        "id": "MuIrVPjv4Awm"
      },
      "source": [
        "Выведем информацию о компаниях, которые харанятся во вложенных списках"
      ]
    },
    {
      "cell_type": "code",
      "metadata": {
        "id": "zIIJF5BZfzo0"
      },
      "source": [
        "companies_capitalization = [\n",
        "    ['Orange', 1.3],\n",
        "    ['Maxisoft', 1.5],\n",
        "    ['Headbook', 0.8],\n",
        "    ['Nicola', 2.2]\n",
        "]\n",
        "for company in companies_capitalization:\n",
        "#     print(company)\n",
        "    print(company[0], 'capitalization is', company[1])"
      ],
      "execution_count": null,
      "outputs": []
    },
    {
      "cell_type": "markdown",
      "metadata": {
        "id": "T6ovLfhv4G33"
      },
      "source": [
        "Мы можем распаковать элементы прямо в списке"
      ]
    },
    {
      "cell_type": "code",
      "metadata": {
        "id": "z63fHl3mfzo1"
      },
      "source": [
        "companies_capitalization = [\n",
        "    ['Orange', 1.3],\n",
        "    ['Maxisoft', 1.5],\n",
        "    ['Headbook', 0.8],\n",
        "    ['Nicola', 2.2]\n",
        "]\n",
        "for company_name, cap in companies_capitalization:\n",
        "    print(company_name, 'capitalization is', cap)"
      ],
      "execution_count": null,
      "outputs": []
    },
    {
      "cell_type": "markdown",
      "metadata": {
        "id": "HQ_0HW2Kfzo6"
      },
      "source": [
        "Посчитаем сумму элементов по главной диагонали квадратной матрицы"
      ]
    },
    {
      "cell_type": "code",
      "metadata": {
        "id": "aikBFIlufzo7"
      },
      "source": [
        "data = [\n",
        "    [13, 25, 23, 34],\n",
        "    [45, 32, 44, 47],\n",
        "    [12, 33, 23, 95],\n",
        "    [13, 53, 34, 35]\n",
        "]"
      ],
      "execution_count": 2,
      "outputs": []
    },
    {
      "cell_type": "code",
      "metadata": {
        "id": "-N9BFu3Gfzo7"
      },
      "source": [
        "sum_ = 0\n",
        "index = 0\n",
        "for row in data:\n",
        "    # print(row)\n",
        "    sum_ += row[index]\n",
        "    index += 1\n",
        "print(sum_)"
      ],
      "execution_count": null,
      "outputs": []
    },
    {
      "cell_type": "markdown",
      "metadata": {
        "id": "ieqdcwQHWCL3"
      },
      "source": [
        "**Практика** \n",
        "\n",
        "Внести правки в код выше, чтобы посчитать сумму элементов по обратной диагонали в матрице"
      ]
    },
    {
      "cell_type": "code",
      "metadata": {
        "id": "H9cGdhDTWBzJ",
        "outputId": "b53598e1-b062-4c7c-ff7e-a439db728fa7",
        "colab": {
          "base_uri": "https://localhost:8080/"
        }
      },
      "source": [
        "sum_ = 0\n",
        "index = 0\n",
        "for row in data:\n",
        "    # print(row)\n",
        "    index -= 1\n",
        "    sum_ += row[index]\n",
        "    # index += 1\n",
        "print(sum_)"
      ],
      "execution_count": 3,
      "outputs": [
        {
          "output_type": "stream",
          "name": "stdout",
          "text": [
            "124\n"
          ]
        }
      ]
    },
    {
      "cell_type": "markdown",
      "metadata": {
        "id": "1NeEO4Npfzo_"
      },
      "source": [
        "Пример вычисления метрики из набора списков. Столбцы в каждой строке:\n",
        "- дата\n",
        "- номер счетчика\n",
        "- количество визитов\n",
        "\n",
        "Найдем среднее количество визитов по нашим данным"
      ]
    },
    {
      "cell_type": "code",
      "metadata": {
        "id": "QKwhOXK3fzpA"
      },
      "source": [
        "api_response = [\n",
        "    ['2017-12-26', '777', 184],\n",
        "    ['2017-12-27', '111', 146],\n",
        "    ['2017-12-28', '777', 98],\n",
        "    ['2017-12-29', '777', 206],\n",
        "    ['2017-12-30', '111', 254],\n",
        "    ['2017-12-31', '777', 89],\n",
        "    ['2018-01-01', '111', 54],\n",
        "    ['2018-01-02', '777', 68],\n",
        "    ['2018-01-03', '777', 74],\n",
        "    ['2018-01-04', '111', 89],\n",
        "    ['2018-01-05', '777', 104],\n",
        "    ['2018-01-06', '777', 99],\n",
        "    ['2018-01-07', '777', 145],\n",
        "    ['2018-01-08', '111', 184],\n",
        "]"
      ],
      "execution_count": null,
      "outputs": []
    },
    {
      "cell_type": "code",
      "metadata": {
        "id": "LZM9_4udfzpA"
      },
      "source": [
        "sum_ = 0\n",
        "for element in api_response:\n",
        "    sum_ += element[2]\n",
        "\n",
        "print(round(sum_ / len(api_response), 2))"
      ],
      "execution_count": null,
      "outputs": []
    },
    {
      "cell_type": "markdown",
      "metadata": {
        "id": "QoWjzgFBfzo1"
      },
      "source": [
        "**Практика**  \n",
        "У нас есть список, содержащий информацию о среднедневной температуре в Фаренгейтах за произвольный период по странам. Необходимо написать код, который рассчитает среднюю температуру за период для каждой страны.\n",
        "\n",
        "Информацию нужно вывести в следующем виде:\n",
        "\n",
        "```\n",
        "Средняя температура в Thailand — ** F  \n",
        "Средняя температура в Germany — ** F\n",
        "...\n",
        "```"
      ]
    },
    {
      "cell_type": "code",
      "metadata": {
        "id": "Fyrtic1sfzo2"
      },
      "source": [
        "countries_temperature = [\n",
        "    ['Thailand', [75.2, 77, 78.8, 73.4, 68, 75.2, 77]],\n",
        "    ['Germany', [57.2, 55.4, 59, 59, 53.6]],\n",
        "    ['Russia', [35.6, 37.4, 39.2, 41, 42.8, 39.2, 35.6]],\n",
        "    ['Poland', [50, 50, 53.6, 57.2, 55.4, 55.4]]\n",
        "]"
      ],
      "execution_count": 4,
      "outputs": []
    },
    {
      "cell_type": "code",
      "metadata": {
        "id": "3MQvE0Mdfzo6",
        "outputId": "056bd1a4-ca86-4d0c-9e9e-759d929bce9d",
        "colab": {
          "base_uri": "https://localhost:8080/"
        }
      },
      "source": [
        "for country, temp_list in countries_temperature:\n",
        "  print(f\"Средняя температура в {country} - {round(sum(temp_list)/len(temp_list), 2)} F\")\n"
      ],
      "execution_count": 7,
      "outputs": [
        {
          "output_type": "stream",
          "name": "stdout",
          "text": [
            "Средняя температура в Thailand - 74.94 F\n",
            "Средняя температура в Germany - 56.84 F\n",
            "Средняя температура в Russia - 38.69 F\n",
            "Средняя температура в Poland - 53.6 F\n"
          ]
        }
      ]
    },
    {
      "cell_type": "markdown",
      "metadata": {
        "id": "N48ikJJQApD2"
      },
      "source": [
        "Итерация по словарям. \n",
        "Выведем информацию о странах и столициах в виде:  \n",
        " `The capital of ... is ...`"
      ]
    },
    {
      "cell_type": "code",
      "metadata": {
        "id": "vCv-tCPrA2Gp"
      },
      "source": [
        "europe = {'spain': {'capital':'madrid'},\n",
        "           'france': {'capital':'paris'},\n",
        "           'germany': {'capital':'berlin'},\n",
        "           'norway': {'capital':'oslo'}}"
      ],
      "execution_count": null,
      "outputs": []
    },
    {
      "cell_type": "code",
      "metadata": {
        "id": "wWWxuvvLA7df"
      },
      "source": [
        "for country, info in europe.items():\n",
        "    print(f'The capital of {country.title()} is {info[\"capital\"].title()}')"
      ],
      "execution_count": null,
      "outputs": []
    },
    {
      "cell_type": "markdown",
      "metadata": {
        "id": "LFvTBZIK6zmP"
      },
      "source": [
        "Посчитаем средний возраст в коллективе"
      ]
    },
    {
      "cell_type": "code",
      "metadata": {
        "id": "1p9kq0qx__sL"
      },
      "source": [
        "people = {1: {'name': 'Oleg', 'age': '29', 'sex': 'Male'},\n",
        "          2: {'name': 'Kate', 'age': '21', 'sex': 'Female'},\n",
        "          3: {'name': 'Liza', 'age': '24', 'sex': 'Female'},\n",
        "          4: {'name': 'Pavel', 'age': '36', 'sex': 'Male'}}"
      ],
      "execution_count": null,
      "outputs": []
    },
    {
      "cell_type": "code",
      "metadata": {
        "id": "3X86dn5OACtD"
      },
      "source": [
        "age = 0\n",
        "for person in people.values():\n",
        "    age += int(person['age'])\n",
        "print(age / len(people))"
      ],
      "execution_count": null,
      "outputs": []
    },
    {
      "cell_type": "markdown",
      "metadata": {
        "id": "JTo-w7pQfzpJ"
      },
      "source": [
        "**Практика**  \n",
        "\n",
        "Согласно сайту www.bodycounters.com в четырех частях фильма “Пираты Карибского моря” было довольно много погибших. Нужно написать код, который будет счить их общее количество. Пиратов-зомби в последней части тоже считайте живыми."
      ]
    },
    {
      "cell_type": "code",
      "metadata": {
        "id": "3sPAVrw_fzpJ"
      },
      "source": [
        "bodycount = {\n",
        "    'Проклятие Черной жемчужины': {\n",
        "        'человек': 17\n",
        "    }, \n",
        "\n",
        "    'Сундук мертвеца': {\n",
        "        'человек': 56,\n",
        "        'раков-отшельников': 1\n",
        "    },\n",
        "\n",
        "    'На краю света': {\n",
        "        'человек': 88\n",
        "    },\n",
        "\n",
        "    'На странных берегах': {\n",
        "        'человек': 56,\n",
        "        'русалок': 2,\n",
        "        'ядовитых жаб': 3,\n",
        "        'пиратов зомби': 2\n",
        "    }\n",
        "}"
      ],
      "execution_count": 8,
      "outputs": []
    },
    {
      "cell_type": "code",
      "metadata": {
        "id": "IUFRStNEfzpJ",
        "outputId": "7de8b00b-0576-4e12-c6e3-acf45e118033",
        "colab": {
          "base_uri": "https://localhost:8080/"
        }
      },
      "source": [
        "deads = 0\n",
        "for film in bodycount.values():\n",
        "  deads += sum(film.values())\n",
        "print(deads)"
      ],
      "execution_count": 13,
      "outputs": [
        {
          "output_type": "stream",
          "name": "stdout",
          "text": [
            "225\n"
          ]
        }
      ]
    },
    {
      "cell_type": "markdown",
      "metadata": {
        "id": "z1qLRsaafzpJ"
      },
      "source": [
        "Проблема изменения длины объекта во время итерации по нему\n",
        "\n",
        "Дан список с визитами по городам и странам.  Напишем код, который возвращает отфильтрованный список geo_logs, содержащий только визиты из России.\n"
      ]
    },
    {
      "cell_type": "code",
      "metadata": {
        "id": "QIDUEySefzpK"
      },
      "source": [
        "geo_logs = [\n",
        "    {'visit1': ['Москва', 'Россия']},\n",
        "    {'visit2': ['Дели', 'Индия']},\n",
        "    {'visit3': ['Владимир', 'Россия']},\n",
        "    {'visit4': ['Лиссабон', 'Португалия']},\n",
        "    {'visit5': ['Париж', 'Франция']},\n",
        "    {'visit7': ['Тула', 'Россия']},\n",
        "    {'visit5': ['Париж', 'Франция']},\n",
        "    {'visit9': ['Курск', 'Россия']},\n",
        "    {'visit5': ['Париж', 'Франция']},\n",
        "    {'visit10': ['Архангельск', 'Россия']}\n",
        "]"
      ],
      "execution_count": 14,
      "outputs": []
    },
    {
      "cell_type": "code",
      "metadata": {
        "id": "veGTqBFiisGc",
        "outputId": "f328e3c9-2490-43c0-bbba-dbb5b9f87399",
        "colab": {
          "base_uri": "https://localhost:8080/"
        }
      },
      "source": [
        "geo_logs_short = []\n",
        "for log in geo_logs:\n",
        "  print(list(log.values())[0])\n",
        "#   if log.values[0][1] == 'Россия':\n",
        "#     geo_logs_short.append(log)\n",
        "\n",
        "# print(geo_logs_short)"
      ],
      "execution_count": 29,
      "outputs": [
        {
          "output_type": "stream",
          "name": "stdout",
          "text": [
            "['Москва', 'Россия']\n",
            "['Дели', 'Индия']\n",
            "['Владимир', 'Россия']\n",
            "['Лиссабон', 'Португалия']\n",
            "['Париж', 'Франция']\n",
            "['Тула', 'Россия']\n",
            "['Париж', 'Франция']\n",
            "['Курск', 'Россия']\n",
            "['Париж', 'Франция']\n",
            "['Архангельск', 'Россия']\n"
          ]
        }
      ]
    },
    {
      "cell_type": "code",
      "metadata": {
        "id": "JtCeF71zfzpL"
      },
      "source": [
        ""
      ],
      "execution_count": null,
      "outputs": []
    },
    {
      "cell_type": "code",
      "metadata": {
        "id": "uOyzYHPufzpL"
      },
      "source": [
        ""
      ],
      "execution_count": null,
      "outputs": []
    },
    {
      "cell_type": "markdown",
      "metadata": {
        "id": "sHhdgs0DEeYY"
      },
      "source": [
        "## Функция range"
      ]
    },
    {
      "cell_type": "markdown",
      "metadata": {
        "id": "zCZIEde1QeDD"
      },
      "source": [
        "range() позволяет генерировать ряд чисел в рамках заданного диапазона.\n",
        "В зависимости от того, как много аргументов вы передаете в функцию, вы можете решить, где этот ряд чисел начнется и закончится, а также сможете определить шаг последовательности."
      ]
    },
    {
      "cell_type": "markdown",
      "metadata": {
        "id": "lNvezEpOMsNV"
      },
      "source": [
        "Есть три способа вызова range():\n",
        "\n",
        "- range(стоп) берет один аргумент\n",
        "- range(старт, стоп) берет два аргумента\n",
        "- range(старт, стоп, шаг) берет три аргумента"
      ]
    },
    {
      "cell_type": "code",
      "metadata": {
        "id": "U-_X698REeYZ"
      },
      "source": [
        "range(10)"
      ],
      "execution_count": null,
      "outputs": []
    },
    {
      "cell_type": "code",
      "metadata": {
        "id": "Z96EkFKaEeYZ"
      },
      "source": [
        "for i in range(10):\n",
        "    print(i)"
      ],
      "execution_count": null,
      "outputs": []
    },
    {
      "cell_type": "code",
      "metadata": {
        "id": "imfdGkRXEeYa"
      },
      "source": [
        "# с указанием левой и правой границы\n",
        "for i in range(3, 20):\n",
        "    print(i)"
      ],
      "execution_count": null,
      "outputs": []
    },
    {
      "cell_type": "code",
      "metadata": {
        "id": "Q5FJVw6iEeYa"
      },
      "source": [
        "# третий аргумент - шаг\n",
        "for i in range(3, 20, 5):\n",
        "    print(i)"
      ],
      "execution_count": null,
      "outputs": []
    },
    {
      "cell_type": "markdown",
      "metadata": {
        "id": "Bz8pKr5nEeYa"
      },
      "source": [
        "Напишем программу, которая считает сумму квадратов n натуральных чисел.  \n",
        "n запрашиваем у пользователя"
      ]
    },
    {
      "cell_type": "code",
      "metadata": {
        "id": "ln0fLulzEeYa",
        "outputId": "2fde4314-c434-4d8c-9865-5bae21c439f8",
        "colab": {
          "base_uri": "https://localhost:8080/",
          "height": 536
        }
      },
      "source": [
        "n = int(input('Введите число'))\n",
        "sum_ = 0\n",
        "for num in range(1, n):\n",
        "    sum_ += num ** 2\n",
        "    print(f'Сумма на шаге {num}: {sum_}')\n",
        "print(sum_)"
      ],
      "execution_count": 34,
      "outputs": [
        {
          "output_type": "error",
          "ename": "KeyboardInterrupt",
          "evalue": "ignored",
          "traceback": [
            "\u001b[0;31m---------------------------------------------------------------------------\u001b[0m",
            "\u001b[0;31mKeyboardInterrupt\u001b[0m                         Traceback (most recent call last)",
            "\u001b[0;32m/usr/local/lib/python3.7/dist-packages/ipykernel/kernelbase.py\u001b[0m in \u001b[0;36m_input_request\u001b[0;34m(self, prompt, ident, parent, password)\u001b[0m\n\u001b[1;32m    728\u001b[0m             \u001b[0;32mtry\u001b[0m\u001b[0;34m:\u001b[0m\u001b[0;34m\u001b[0m\u001b[0;34m\u001b[0m\u001b[0m\n\u001b[0;32m--> 729\u001b[0;31m                 \u001b[0mident\u001b[0m\u001b[0;34m,\u001b[0m \u001b[0mreply\u001b[0m \u001b[0;34m=\u001b[0m \u001b[0mself\u001b[0m\u001b[0;34m.\u001b[0m\u001b[0msession\u001b[0m\u001b[0;34m.\u001b[0m\u001b[0mrecv\u001b[0m\u001b[0;34m(\u001b[0m\u001b[0mself\u001b[0m\u001b[0;34m.\u001b[0m\u001b[0mstdin_socket\u001b[0m\u001b[0;34m,\u001b[0m \u001b[0;36m0\u001b[0m\u001b[0;34m)\u001b[0m\u001b[0;34m\u001b[0m\u001b[0;34m\u001b[0m\u001b[0m\n\u001b[0m\u001b[1;32m    730\u001b[0m             \u001b[0;32mexcept\u001b[0m \u001b[0mException\u001b[0m\u001b[0;34m:\u001b[0m\u001b[0;34m\u001b[0m\u001b[0;34m\u001b[0m\u001b[0m\n",
            "\u001b[0;32m/usr/local/lib/python3.7/dist-packages/jupyter_client/session.py\u001b[0m in \u001b[0;36mrecv\u001b[0;34m(self, socket, mode, content, copy)\u001b[0m\n\u001b[1;32m    802\u001b[0m         \u001b[0;32mtry\u001b[0m\u001b[0;34m:\u001b[0m\u001b[0;34m\u001b[0m\u001b[0;34m\u001b[0m\u001b[0m\n\u001b[0;32m--> 803\u001b[0;31m             \u001b[0mmsg_list\u001b[0m \u001b[0;34m=\u001b[0m \u001b[0msocket\u001b[0m\u001b[0;34m.\u001b[0m\u001b[0mrecv_multipart\u001b[0m\u001b[0;34m(\u001b[0m\u001b[0mmode\u001b[0m\u001b[0;34m,\u001b[0m \u001b[0mcopy\u001b[0m\u001b[0;34m=\u001b[0m\u001b[0mcopy\u001b[0m\u001b[0;34m)\u001b[0m\u001b[0;34m\u001b[0m\u001b[0;34m\u001b[0m\u001b[0m\n\u001b[0m\u001b[1;32m    804\u001b[0m         \u001b[0;32mexcept\u001b[0m \u001b[0mzmq\u001b[0m\u001b[0;34m.\u001b[0m\u001b[0mZMQError\u001b[0m \u001b[0;32mas\u001b[0m \u001b[0me\u001b[0m\u001b[0;34m:\u001b[0m\u001b[0;34m\u001b[0m\u001b[0;34m\u001b[0m\u001b[0m\n",
            "\u001b[0;32m/usr/local/lib/python3.7/dist-packages/zmq/sugar/socket.py\u001b[0m in \u001b[0;36mrecv_multipart\u001b[0;34m(self, flags, copy, track)\u001b[0m\n\u001b[1;32m    624\u001b[0m         \"\"\"\n\u001b[0;32m--> 625\u001b[0;31m         \u001b[0mparts\u001b[0m \u001b[0;34m=\u001b[0m \u001b[0;34m[\u001b[0m\u001b[0mself\u001b[0m\u001b[0;34m.\u001b[0m\u001b[0mrecv\u001b[0m\u001b[0;34m(\u001b[0m\u001b[0mflags\u001b[0m\u001b[0;34m,\u001b[0m \u001b[0mcopy\u001b[0m\u001b[0;34m=\u001b[0m\u001b[0mcopy\u001b[0m\u001b[0;34m,\u001b[0m \u001b[0mtrack\u001b[0m\u001b[0;34m=\u001b[0m\u001b[0mtrack\u001b[0m\u001b[0;34m)\u001b[0m\u001b[0;34m]\u001b[0m\u001b[0;34m\u001b[0m\u001b[0;34m\u001b[0m\u001b[0m\n\u001b[0m\u001b[1;32m    626\u001b[0m         \u001b[0;31m# have first part already, only loop while more to receive\u001b[0m\u001b[0;34m\u001b[0m\u001b[0;34m\u001b[0m\u001b[0;34m\u001b[0m\u001b[0m\n",
            "\u001b[0;32mzmq/backend/cython/socket.pyx\u001b[0m in \u001b[0;36mzmq.backend.cython.socket.Socket.recv\u001b[0;34m()\u001b[0m\n",
            "\u001b[0;32mzmq/backend/cython/socket.pyx\u001b[0m in \u001b[0;36mzmq.backend.cython.socket.Socket.recv\u001b[0;34m()\u001b[0m\n",
            "\u001b[0;32mzmq/backend/cython/socket.pyx\u001b[0m in \u001b[0;36mzmq.backend.cython.socket._recv_copy\u001b[0;34m()\u001b[0m\n",
            "\u001b[0;32m/usr/local/lib/python3.7/dist-packages/zmq/backend/cython/checkrc.pxd\u001b[0m in \u001b[0;36mzmq.backend.cython.checkrc._check_rc\u001b[0;34m()\u001b[0m\n",
            "\u001b[0;31mKeyboardInterrupt\u001b[0m: ",
            "\nDuring handling of the above exception, another exception occurred:\n",
            "\u001b[0;31mKeyboardInterrupt\u001b[0m                         Traceback (most recent call last)",
            "\u001b[0;32m<ipython-input-34-86737b079040>\u001b[0m in \u001b[0;36m<module>\u001b[0;34m()\u001b[0m\n\u001b[0;32m----> 1\u001b[0;31m \u001b[0mn\u001b[0m \u001b[0;34m=\u001b[0m \u001b[0mint\u001b[0m\u001b[0;34m(\u001b[0m\u001b[0minput\u001b[0m\u001b[0;34m(\u001b[0m\u001b[0;34m'Введите число'\u001b[0m\u001b[0;34m)\u001b[0m\u001b[0;34m)\u001b[0m\u001b[0;34m\u001b[0m\u001b[0;34m\u001b[0m\u001b[0m\n\u001b[0m\u001b[1;32m      2\u001b[0m \u001b[0msum_\u001b[0m \u001b[0;34m=\u001b[0m \u001b[0;36m0\u001b[0m\u001b[0;34m\u001b[0m\u001b[0;34m\u001b[0m\u001b[0m\n\u001b[1;32m      3\u001b[0m \u001b[0;32mfor\u001b[0m \u001b[0mnum\u001b[0m \u001b[0;32min\u001b[0m \u001b[0mrange\u001b[0m\u001b[0;34m(\u001b[0m\u001b[0;36m1\u001b[0m\u001b[0;34m,\u001b[0m \u001b[0mn\u001b[0m\u001b[0;34m)\u001b[0m\u001b[0;34m:\u001b[0m\u001b[0;34m\u001b[0m\u001b[0;34m\u001b[0m\u001b[0m\n\u001b[1;32m      4\u001b[0m     \u001b[0msum_\u001b[0m \u001b[0;34m+=\u001b[0m \u001b[0mnum\u001b[0m \u001b[0;34m**\u001b[0m \u001b[0;36m2\u001b[0m\u001b[0;34m\u001b[0m\u001b[0;34m\u001b[0m\u001b[0m\n\u001b[1;32m      5\u001b[0m     \u001b[0mprint\u001b[0m\u001b[0;34m(\u001b[0m\u001b[0;34mf'Сумма на шаге {num}: {sum_}'\u001b[0m\u001b[0;34m)\u001b[0m\u001b[0;34m\u001b[0m\u001b[0;34m\u001b[0m\u001b[0m\n",
            "\u001b[0;32m/usr/local/lib/python3.7/dist-packages/ipykernel/kernelbase.py\u001b[0m in \u001b[0;36mraw_input\u001b[0;34m(self, prompt)\u001b[0m\n\u001b[1;32m    702\u001b[0m             \u001b[0mself\u001b[0m\u001b[0;34m.\u001b[0m\u001b[0m_parent_ident\u001b[0m\u001b[0;34m,\u001b[0m\u001b[0;34m\u001b[0m\u001b[0;34m\u001b[0m\u001b[0m\n\u001b[1;32m    703\u001b[0m             \u001b[0mself\u001b[0m\u001b[0;34m.\u001b[0m\u001b[0m_parent_header\u001b[0m\u001b[0;34m,\u001b[0m\u001b[0;34m\u001b[0m\u001b[0;34m\u001b[0m\u001b[0m\n\u001b[0;32m--> 704\u001b[0;31m             \u001b[0mpassword\u001b[0m\u001b[0;34m=\u001b[0m\u001b[0;32mFalse\u001b[0m\u001b[0;34m,\u001b[0m\u001b[0;34m\u001b[0m\u001b[0;34m\u001b[0m\u001b[0m\n\u001b[0m\u001b[1;32m    705\u001b[0m         )\n\u001b[1;32m    706\u001b[0m \u001b[0;34m\u001b[0m\u001b[0m\n",
            "\u001b[0;32m/usr/local/lib/python3.7/dist-packages/ipykernel/kernelbase.py\u001b[0m in \u001b[0;36m_input_request\u001b[0;34m(self, prompt, ident, parent, password)\u001b[0m\n\u001b[1;32m    732\u001b[0m             \u001b[0;32mexcept\u001b[0m \u001b[0mKeyboardInterrupt\u001b[0m\u001b[0;34m:\u001b[0m\u001b[0;34m\u001b[0m\u001b[0;34m\u001b[0m\u001b[0m\n\u001b[1;32m    733\u001b[0m                 \u001b[0;31m# re-raise KeyboardInterrupt, to truncate traceback\u001b[0m\u001b[0;34m\u001b[0m\u001b[0;34m\u001b[0m\u001b[0;34m\u001b[0m\u001b[0m\n\u001b[0;32m--> 734\u001b[0;31m                 \u001b[0;32mraise\u001b[0m \u001b[0mKeyboardInterrupt\u001b[0m\u001b[0;34m\u001b[0m\u001b[0;34m\u001b[0m\u001b[0m\n\u001b[0m\u001b[1;32m    735\u001b[0m             \u001b[0;32melse\u001b[0m\u001b[0;34m:\u001b[0m\u001b[0;34m\u001b[0m\u001b[0;34m\u001b[0m\u001b[0m\n\u001b[1;32m    736\u001b[0m                 \u001b[0;32mbreak\u001b[0m\u001b[0;34m\u001b[0m\u001b[0;34m\u001b[0m\u001b[0m\n",
            "\u001b[0;31mKeyboardInterrupt\u001b[0m: "
          ]
        }
      ]
    },
    {
      "cell_type": "markdown",
      "metadata": {
        "id": "iJAkazM1EeYb"
      },
      "source": [
        "**Практика**  \n",
        "Напишите программу, которая рассчитаем факториал числа n. n запрашиваем у пользователя"
      ]
    },
    {
      "cell_type": "code",
      "metadata": {
        "id": "ye-ou4hnEeYb",
        "outputId": "a02bdb7b-a597-4daa-877c-77b81c217e9d",
        "colab": {
          "base_uri": "https://localhost:8080/"
        }
      },
      "source": [
        "num = 1\n",
        "n = 5\n",
        "for i in range(1, n+1):\n",
        "  num *= i\n",
        "print(num)"
      ],
      "execution_count": 39,
      "outputs": [
        {
          "output_type": "stream",
          "name": "stdout",
          "text": [
            "120\n"
          ]
        }
      ]
    },
    {
      "cell_type": "markdown",
      "metadata": {
        "id": "nRL8nM6hEeYc"
      },
      "source": [
        "## Функция enumerate"
      ]
    },
    {
      "cell_type": "markdown",
      "metadata": {
        "id": "QMuWrheREeYc"
      },
      "source": [
        "enumerate позволяет получать индекс каждого элемента в объекте"
      ]
    },
    {
      "cell_type": "code",
      "metadata": {
        "id": "iZl9-joHEeYc"
      },
      "source": [
        "enumerate('1,2,3,4,5')"
      ],
      "execution_count": null,
      "outputs": []
    },
    {
      "cell_type": "code",
      "metadata": {
        "id": "G18OpLgqEeYc"
      },
      "source": [
        "for i, el in enumerate('1,2,3,4,5'):  # в цикле можем сразу перебирать индексы и сами элементы\n",
        "    print(i, el)"
      ],
      "execution_count": null,
      "outputs": []
    },
    {
      "cell_type": "code",
      "metadata": {
        "id": "fjmqpJKxEeYc"
      },
      "source": [
        "company_name = 'SkillFactory'\n",
        "for i, letter in enumerate(company_name):  \n",
        "    print(f'Позиция символа \"{letter}\" - {i}')"
      ],
      "execution_count": null,
      "outputs": []
    },
    {
      "cell_type": "markdown",
      "metadata": {
        "id": "YZplGdfcfzpB"
      },
      "source": [
        "**Практика**\n",
        "\n",
        "Решим задачу с диагональной матрицей при помощи enumerate"
      ]
    },
    {
      "cell_type": "code",
      "metadata": {
        "id": "mCb2AbBpfzpB"
      },
      "source": [
        "data = [\n",
        "    [13, 25, 23, 34],\n",
        "    [45, 32, 44, 47],\n",
        "    [12, 33, 23, 95],\n",
        "    [13, 53, 34, 35]\n",
        "]"
      ],
      "execution_count": 40,
      "outputs": []
    },
    {
      "cell_type": "code",
      "metadata": {
        "id": "P0o7KOdX9Q8-",
        "outputId": "59eb89e8-b0ce-4ec8-e91c-b7bde61a90b7",
        "colab": {
          "base_uri": "https://localhost:8080/"
        }
      },
      "source": [
        "sum_ = 0\n",
        "for i, row in enumerate(data):\n",
        "    sum_ += row[i]\n",
        "print(sum_)"
      ],
      "execution_count": 41,
      "outputs": [
        {
          "output_type": "stream",
          "name": "stdout",
          "text": [
            "103\n"
          ]
        }
      ]
    },
    {
      "cell_type": "markdown",
      "metadata": {
        "id": "aG3CDp4cEeYP"
      },
      "source": [
        "## Цикл while"
      ]
    },
    {
      "cell_type": "markdown",
      "metadata": {
        "id": "gOerjvEAMsJp"
      },
      "source": [
        "Позволяет выполнить одну и ту же последовательность действий, пока проверяемое условие истинно. Как правило, цикл while используется, когда невозможно заранее определить точное значение количества проходов исполнения цикла.\n"
      ]
    },
    {
      "cell_type": "code",
      "metadata": {
        "id": "niZlbfI5MsJt",
        "scrolled": false
      },
      "source": [
        "money = 5 # создаем переменную money и присваиваем ей значение 5\n",
        "while money >= 0: # запускаем цикл (\"пока денег больше нуля\")\n",
        "    print('Денег осталось: ', money) # пишем тело цикла: код, который будет исполняться, пока условие истино\n",
        "    money -= 1 # уменьшаем на один переменную money\n",
        "    \n",
        "print('Денег больше нет') # печатаем сообщение (уже вне цикла)"
      ],
      "execution_count": null,
      "outputs": []
    },
    {
      "cell_type": "code",
      "metadata": {
        "id": "pkcJr-eSEeYR"
      },
      "source": [
        "x = 7\n",
        "while x != 0:\n",
        "    if x % 2 == 0:\n",
        "        print(x, '- четное число')\n",
        "    else:\n",
        "        print(x, '- нечетное число')\n",
        "    x -= 1"
      ],
      "execution_count": null,
      "outputs": []
    },
    {
      "cell_type": "markdown",
      "metadata": {
        "id": "4qe61Hx5EeYR"
      },
      "source": [
        "А что будет, если мы сделаем так?"
      ]
    },
    {
      "cell_type": "code",
      "metadata": {
        "id": "NI56bvRXEeYR"
      },
      "source": [
        "x = 7\n",
        "while x != 0:\n",
        "    if x % 2 == 0:\n",
        "        print(x, '- четное число')\n",
        "    else:\n",
        "        print(x, '- нечетное число')"
      ],
      "execution_count": null,
      "outputs": []
    },
    {
      "cell_type": "markdown",
      "metadata": {
        "id": "HMobHtPeEeYS"
      },
      "source": [
        "**Практика**  \n",
        "Напишите программу, которая будет запрашивать целые числа у пользователя до тех пор, пока не будет введен 0. После чего выводится сумма всех введеных ранее чисел"
      ]
    },
    {
      "cell_type": "code",
      "metadata": {
        "id": "-S9HUlhp_TJ9",
        "outputId": "1ffb02e0-8d82-45e9-a7d6-3dd6baa1d077",
        "colab": {
          "base_uri": "https://localhost:8080/"
        }
      },
      "source": [
        "sum_ = 0\n",
        "num = None\n",
        "while num != 0:\n",
        "  num = int(input())\n",
        "  sum_ += num\n",
        "print(sum_)"
      ],
      "execution_count": 44,
      "outputs": [
        {
          "output_type": "stream",
          "name": "stdout",
          "text": [
            "2\n",
            "0\n",
            "2\n"
          ]
        }
      ]
    },
    {
      "cell_type": "markdown",
      "metadata": {
        "id": "_RcFSvjhEoWl"
      },
      "source": [
        "Напишем игру \"Камень-ножницы-бумага\""
      ]
    },
    {
      "cell_type": "code",
      "metadata": {
        "id": "wELJ8IGkACcw"
      },
      "source": [
        "user_1_wins = 0\n",
        "user_2_wins = 0\n",
        "\n",
        "while user_1_wins < 3 and user_2_wins < 3:\n",
        "\n",
        "    user_1 = input('Выбор игрока 1')\n",
        "    user_2 = input('Выбор игрока 2')\n",
        "\n",
        "    if user_1 == user_2:\n",
        "        print('Ничья')\n",
        "    elif user_1 == 'r' and user_2 == 's':\n",
        "        print('Игрок 1 победил! Камень ломает ножницы!')\n",
        "        user_1_wins += 1\n",
        "    elif user_1 == 's' and user_2 == 'r':\n",
        "        print('Игрок 2 победил! Камень ломает ножницы!')\n",
        "        user_2_wins += 1\n",
        "    elif user_1 == 'p' and user_2 == 'r':\n",
        "        print('Игрок 1 победил! Бумага закрывает камень!')\n",
        "        user_1_wins += 1\n",
        "    elif user_1 == 'r' and user_2 == 'p':\n",
        "        print('Игрок 2 победил! Бумага закрывает камень!')\n",
        "        user_2_wins += 1\n",
        "    elif user_1 == 's' and user_2 == 'p':\n",
        "        print('Игрок 1 победил! Ножницы режут бумагу!')\n",
        "        user_1_wins += 1        \n",
        "    elif user_1 == 'p' and user_2 == 's':\n",
        "        print('Игрок 2 победил! Ножницы режут бумагу!')\n",
        "        user_2_wins += 1\n",
        "    else:\n",
        "        print('Ошибка! Был некорректный ввод')\n",
        "    \n",
        "    print(f'Текущий счёт: {user_1_wins}:{user_2_wins}')\n",
        "\n",
        "\n",
        "    \n",
        "if user_1_wins > user_2_wins:\n",
        "    print('По итогам трех раундов победил игрок 1, поздравляем!')\n",
        "else:\n",
        "    print('Игрок 2, рады за тебя! По итогам трех раундов победа твоя!')"
      ],
      "execution_count": null,
      "outputs": []
    },
    {
      "cell_type": "markdown",
      "metadata": {
        "id": "7aMMFJfPEeYV"
      },
      "source": [
        "## Операторы break и continue\n",
        "break – прерывает исполнение цикла  \n",
        "continue – прерывает только текущую итерацию и сразу переходит к следующей  \n",
        "Работают и с **while**, и с **for**"
      ]
    },
    {
      "cell_type": "code",
      "metadata": {
        "id": "cZ6fnaCREeYW"
      },
      "source": [
        "phrase = '640Кб должно хватить для любых задач. Билл Гейтс (по легенде)'"
      ],
      "execution_count": null,
      "outputs": []
    },
    {
      "cell_type": "code",
      "metadata": {
        "id": "cN40gvIvEeYW"
      },
      "source": [
        "for letter in phrase:\n",
        "    if letter == ' ':\n",
        "        break\n",
        "    print(letter, end='')"
      ],
      "execution_count": null,
      "outputs": []
    },
    {
      "cell_type": "code",
      "metadata": {
        "id": "aZ2Qg_r7EeYW"
      },
      "source": [
        "for letter in phrase:\n",
        "    if letter == ' ':\n",
        "        continue\n",
        "    print(letter, end='')"
      ],
      "execution_count": null,
      "outputs": []
    },
    {
      "cell_type": "code",
      "metadata": {
        "id": "a-IUc6vvEeYX"
      },
      "source": [
        "while True:\n",
        "    user_input = input('Введите команду')\n",
        "    if user_input == 'do':\n",
        "        pass\n",
        "    elif user_input == 'do2':\n",
        "        pass\n",
        "    elif user_input == 'quit':\n",
        "        print('Выход из программы. До свидания!')\n",
        "        break"
      ],
      "execution_count": null,
      "outputs": []
    },
    {
      "cell_type": "markdown",
      "metadata": {
        "id": "QNfWgqNZEeYb"
      },
      "source": [
        "Напишем программу для проверки логина и пароля\n",
        "\n",
        "1) логин и пароль пользователя хранится в переменной\n",
        "\n",
        "2) будем давать пользователю k попыток на ввод логина и пароля\n",
        "\n",
        "3) если после трех попыток вверного ввода не было, то заблокируем вход - вывести на экран сообщение \"Вход заблокирован\"\n",
        "\n",
        "4) если пароль и логин были введены верно, то вывести на экран сообщение \"Добро пожаловать!\""
      ]
    },
    {
      "cell_type": "code",
      "metadata": {
        "id": "WPYGThD8EeYb"
      },
      "source": [
        "login_correct = 'admin'\n",
        "pswd_correct = 'admin'\n",
        "k = 3\n",
        "for i in range(0, k):\n",
        "    login = input('Ввелите логин')\n",
        "    pswd = input('Введите пароль')\n",
        "    if login != login_correct or pswd != pswd_correct:\n",
        "        k -= 1\n",
        "        print(f'Осталось {k} попытки')\n",
        "    else:\n",
        "        print('Добро пожаловать!')\n",
        "        break\n",
        "if k == 0:\n",
        "    print('Вход заблокирован')"
      ],
      "execution_count": null,
      "outputs": []
    },
    {
      "cell_type": "markdown",
      "metadata": {
        "id": "UBfqWckSEeYd"
      },
      "source": [
        "## Вложенные циклы\n",
        "\n",
        "Вас не должно смущать, что циклы могут находится внутри других циклов. Все элементы языка можно комбинировать друг с другом, как захотим"
      ]
    },
    {
      "cell_type": "markdown",
      "metadata": {
        "id": "pJUjBZvGfzpU"
      },
      "source": [
        "Выведем фамилии построчно с указанием профессии в формате:\n",
        "\n",
        "```\n",
        "IT:  \n",
        "Гейтс  \n",
        "Джобс  \n",
        "Возняк  \n",
        "\n",
        "Физика:  \n",
        "Эйнштейн  \n",
        "Фейнман  \n",
        "```"
      ]
    },
    {
      "cell_type": "code",
      "metadata": {
        "id": "z_vxMDG4fzpU"
      },
      "source": [
        "professions = ['IT', 'Физика', 'Математика']\n",
        "persons = [['Гейтс', 'Джобс', 'Возняк'], ['Эйнштейн', 'Фейнман'], ['Эвклид', 'Ньютон']]"
      ],
      "execution_count": null,
      "outputs": []
    },
    {
      "cell_type": "code",
      "metadata": {
        "id": "F1SypBEBfzpU"
      },
      "source": [
        "for pro, person_list in zip(professions, persons):\n",
        "    print(f'{pro}:')\n",
        "    for person in person_list:\n",
        "        print(person)\n",
        "    print()"
      ],
      "execution_count": null,
      "outputs": []
    },
    {
      "cell_type": "markdown",
      "metadata": {
        "id": "ceNE2LFpEeYf"
      },
      "source": [
        "Напишем программу, которая выведет на экран таблицу умножения (Таблица Пифагора)"
      ]
    },
    {
      "cell_type": "code",
      "metadata": {
        "scrolled": true,
        "id": "7U4WCKDFEeYf",
        "outputId": "a229ba8a-050f-4073-abdb-479f72a843e3",
        "colab": {
          "base_uri": "https://localhost:8080/"
        }
      },
      "source": [
        "for row in range(1, 10):\n",
        "    for col in range(1, 10):\n",
        "        print(row * col, end='\\t')\n",
        "    print()"
      ],
      "execution_count": 45,
      "outputs": [
        {
          "output_type": "stream",
          "name": "stdout",
          "text": [
            "1\t2\t3\t4\t5\t6\t7\t8\t9\t\n",
            "2\t4\t6\t8\t10\t12\t14\t16\t18\t\n",
            "3\t6\t9\t12\t15\t18\t21\t24\t27\t\n",
            "4\t8\t12\t16\t20\t24\t28\t32\t36\t\n",
            "5\t10\t15\t20\t25\t30\t35\t40\t45\t\n",
            "6\t12\t18\t24\t30\t36\t42\t48\t54\t\n",
            "7\t14\t21\t28\t35\t42\t49\t56\t63\t\n",
            "8\t16\t24\t32\t40\t48\t56\t64\t72\t\n",
            "9\t18\t27\t36\t45\t54\t63\t72\t81\t\n"
          ]
        }
      ]
    },
    {
      "cell_type": "markdown",
      "metadata": {
        "id": "HrCwjJziO_3t"
      },
      "source": [
        "**Практика**\n",
        "\n",
        "Имеется структура данных cook_book, в которой хранится информация об ингредиентах блюд и их количестве в расчете на одну порцию.\n",
        "\n",
        "Необходимо вывести пользователю список покупок необходимого количества ингредиентов для приготовления блюд на определенное число персон в следующем виде:\n",
        "```\n",
        "Салат:\n",
        "картофель, 500гр.\n",
        "морковь, 250гр.\n",
        "огурцы, 250гр.\n",
        "горошек, 150гр.\n",
        "майонез, 350мл.\n",
        "\n",
        "Пицца:\n",
        "сыр, 250гр.\n",
        "томаты, 250гр.\n",
        "тесто, 500гр.\n",
        "бекон, 150гр.\n",
        "колбаса, 150гр.\n",
        "грибы, 100гр.\n",
        "\n",
        "Фруктовый десерт:\n",
        "хурма, 300гр.\n",
        "киви, 300гр.\n",
        "творог, 300гр.\n",
        "сахар, 50гр.\n",
        "мед, 250мл.\n",
        "```"
      ]
    },
    {
      "cell_type": "code",
      "metadata": {
        "id": "89Kjy1rpC4Ul"
      },
      "source": [
        "cook_book = [\n",
        "  ['салат',\n",
        "      [\n",
        "        ['картофель', 100, 'гр.'],\n",
        "        ['морковь', 50, 'гр.'],\n",
        "        ['огурцы', 50, 'гр.'],\n",
        "        ['горошек', 30, 'гр.'],\n",
        "        ['майонез', 70, 'мл.'],\n",
        "      ]\n",
        "  ],\n",
        "  ['пицца',  \n",
        "      [\n",
        "        ['сыр', 50, 'гр.'],\n",
        "        ['томаты', 50, 'гр.'],\n",
        "        ['тесто', 100, 'гр.'],\n",
        "        ['бекон', 30, 'гр.'],\n",
        "        ['колбаса', 30, 'гр.'],\n",
        "        ['грибы', 20, 'гр.'],\n",
        "      ],\n",
        "  ],\n",
        "  ['фруктовый десерт',\n",
        "      [\n",
        "        ['хурма', 60, 'гр.'],\n",
        "        ['киви', 60, 'гр.'],\n",
        "        ['творог', 60, 'гр.'],\n",
        "        ['сахар', 10, 'гр.'],\n",
        "        ['мед', 50, 'мл.'],  \n",
        "      ]\n",
        "  ]\n",
        "]\n",
        "\n",
        "person = 5"
      ],
      "execution_count": 46,
      "outputs": []
    },
    {
      "cell_type": "code",
      "metadata": {
        "id": "r6iB5dWoPGgV",
        "outputId": "88385c76-3399-41d6-ec6f-335f037dd744",
        "colab": {
          "base_uri": "https://localhost:8080/"
        }
      },
      "source": [
        "for dish, ingredients in cook_book:\n",
        "  print(f\"{dish.title()}:\")\n",
        "  for ingredient in ingredients:\n",
        "    print(f'{ingredient[0]}, {person * ingredient[1]}, {ingredient[2]}')\n",
        "  print()"
      ],
      "execution_count": 57,
      "outputs": [
        {
          "output_type": "stream",
          "name": "stdout",
          "text": [
            "Салат:\n",
            "картофель, 500, гр.\n",
            "морковь, 250, гр.\n",
            "огурцы, 250, гр.\n",
            "горошек, 150, гр.\n",
            "майонез, 350, мл.\n",
            "\n",
            "Пицца:\n",
            "сыр, 250, гр.\n",
            "томаты, 250, гр.\n",
            "тесто, 500, гр.\n",
            "бекон, 150, гр.\n",
            "колбаса, 150, гр.\n",
            "грибы, 100, гр.\n",
            "\n",
            "Фруктовый Десерт:\n",
            "хурма, 300, гр.\n",
            "киви, 300, гр.\n",
            "творог, 300, гр.\n",
            "сахар, 50, гр.\n",
            "мед, 250, мл.\n",
            "\n"
          ]
        }
      ]
    },
    {
      "cell_type": "markdown",
      "metadata": {
        "id": "8n1tSQLIOsED"
      },
      "source": [
        "Дана книга рецептов с информацией о том, сколько ингредиентов нужно для приготовления блюда в расчете на одну порцию (пример данных представлен ниже).\n",
        "Напишите программу, которая будет запрашивать у пользователя количество порций для приготовления этих блюд и отображать информацию о суммарном количестве требуемых ингредиентов в указанном виде:\n",
        "\n",
        "```\n",
        "Сыр: 210 гр  \n",
        "Томаты: 6 шт  \n",
        "Огурцы: 60 гр  \n",
        "Маслины: 30 гр  \n",
        "Оливковое масло: 60 мл  \n",
        "Салат: 30 гр  \n",
        "Перец: 60 гр  \n",
        "Колбаса: 90 гр  \n",
        "Бекон: 90 гр  \n",
        "Оливки: 30 гр  \n",
        "Томаты: 60 гр  \n",
        "Тесто: 300 гр  \n",
        "Лимон: 3 шт  \n",
        "Вода: 600 мл  \n",
        "Сахар: 30 гр  \n",
        "Лайм: 60 гр\n",
        "```\n",
        "Внимание! Одинаковые ингридиенты с разными размерностями нужно считать раздельно!"
      ]
    },
    {
      "cell_type": "code",
      "metadata": {
        "id": "1eWc6XmyDGd_"
      },
      "source": [
        "cook_book = {\n",
        "  'салат': [\n",
        "     {'ingridient_name': 'сыр', 'quantity': 50, 'measure': 'гр'},\n",
        "     {'ingridient_name': 'томаты', 'quantity': 2, 'measure': 'шт'},\n",
        "     {'ingridient_name': 'огурцы', 'quantity': 20, 'measure': 'гр'},\n",
        "     {'ingridient_name': 'маслины', 'quantity': 10, 'measure': 'гр'},\n",
        "     {'ingridient_name': 'оливковое масло', 'quantity': 20, 'measure': 'мл'},\n",
        "     {'ingridient_name': 'салат', 'quantity': 10, 'measure': 'гр'},\n",
        "     {'ingridient_name': 'перец', 'quantity': 20, 'measure': 'гр'}\n",
        "    ],\n",
        "  'пицца': [\n",
        "     {'ingridient_name': 'сыр', 'quantity': 20, 'measure': 'гр'},\n",
        "     {'ingridient_name': 'колбаса', 'quantity': 30, 'measure': 'гр'},\n",
        "     {'ingridient_name': 'бекон', 'quantity': 30, 'measure': 'гр'},\n",
        "     {'ingridient_name': 'оливки', 'quantity': 10, 'measure': 'гр'},\n",
        "     {'ingridient_name': 'томаты', 'quantity': 20, 'measure': 'гр'},\n",
        "     {'ingridient_name': 'тесто', 'quantity': 100, 'measure': 'гр'},   \n",
        "    ],\n",
        "  'лимонад': [\n",
        "     {'ingridient_name': 'лимон', 'quantity': 1, 'measure': 'шт'},\n",
        "     {'ingridient_name': 'вода', 'quantity': 200, 'measure': 'мл'},\n",
        "     {'ingridient_name': 'сахар', 'quantity': 10, 'measure': 'гр'},\n",
        "     {'ingridient_name': 'лайм', 'quantity': 20, 'measure': 'гр'},    \n",
        "    ]\n",
        "}"
      ],
      "execution_count": 59,
      "outputs": []
    },
    {
      "cell_type": "code",
      "metadata": {
        "id": "UG41BQ6hDLUm",
        "outputId": "2fa2432d-6157-41c1-d2a2-d6ac15b02fc8",
        "colab": {
          "base_uri": "https://localhost:8080/"
        }
      },
      "source": [
        "shop_dict = {}\n",
        "\n",
        "for dish in cook_book.values():\n",
        "  # print(dish)\n",
        "  for ingr in dish:\n",
        "    key = (ingr['ingridient_name'], ingr['measure'])\n",
        "    if key not in shop_dict:\n",
        "      shop_dict[key] = ingr['quantity'] * person\n",
        "    else:\n",
        "      shop_dict[key] += ingr['quantity'] * person\n",
        "\n",
        "for name, q in shop_dict.items():\n",
        "  print(f'{name[0]}: {q} {name[1]}')"
      ],
      "execution_count": 65,
      "outputs": [
        {
          "output_type": "stream",
          "name": "stdout",
          "text": [
            "сыр: 350 гр\n",
            "томаты: 10 шт\n",
            "огурцы: 100 гр\n",
            "маслины: 50 гр\n",
            "оливковое масло: 100 мл\n",
            "салат: 50 гр\n",
            "перец: 100 гр\n",
            "колбаса: 150 гр\n",
            "бекон: 150 гр\n",
            "оливки: 50 гр\n",
            "томаты: 100 гр\n",
            "тесто: 500 гр\n",
            "лимон: 5 шт\n",
            "вода: 1000 мл\n",
            "сахар: 50 гр\n",
            "лайм: 100 гр\n"
          ]
        }
      ]
    },
    {
      "cell_type": "markdown",
      "metadata": {
        "id": "28As4JUxWkVm"
      },
      "source": [
        "**Спасибо за внимание буду рад ответить на ваши вопросы!**  \n",
        "Ссылка на форму ОС:\n",
        "https://forms.gle/y8xaFwJqtbFSjUeG8"
      ]
    },
    {
      "cell_type": "code",
      "metadata": {
        "id": "cRgDuQT-EeYg"
      },
      "source": [
        ""
      ],
      "execution_count": null,
      "outputs": []
    }
  ]
}